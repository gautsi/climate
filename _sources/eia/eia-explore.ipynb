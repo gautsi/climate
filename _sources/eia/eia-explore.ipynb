{
 "cells": [
  {
   "source": [
    "# EIA data: exploring"
   ],
   "cell_type": "markdown",
   "metadata": {}
  },
  {
   "cell_type": "code",
   "execution_count": 28,
   "metadata": {},
   "outputs": [
    {
     "output_type": "stream",
     "name": "stdout",
     "text": "The autoreload extension is already loaded. To reload it, use:\n  %reload_ext autoreload\n"
    }
   ],
   "source": [
    "%load_ext autoreload\n",
    "%autoreload 2\n",
    "from climate.eia import utils as u\n",
    "data_path = \"./../../data/eia\""
   ]
  },
  {
   "cell_type": "code",
   "execution_count": 54,
   "metadata": {},
   "outputs": [],
   "source": [
    "gen_data = pd.read_csv(f\"{data_path}/processed/generation.csv\")"
   ]
  },
  {
   "cell_type": "code",
   "execution_count": 55,
   "metadata": {},
   "outputs": [
    {
     "output_type": "execute_result",
     "data": {
      "text/plain": "plant_id                            int64\ncombined_heat_and__power_plant     object\nplant_name                         object\noperator_name                      object\noperator_id                         int64\nplant_state                        object\ncensus_region                      object\nnerc_region                        object\nnaics_code                          int64\nsector_number                       int64\nsector_name                        object\ngenerator_id                       object\nreported_prime_mover               object\nnet_generation_january             object\nnet_generation_february            object\nnet_generation_march               object\nnet_generation_april               object\nnet_generation_may                 object\nnet_generation_june                object\nnet_generation_july                object\nnet_generation_august              object\nnet_generation_september           object\nnet_generation_october             object\nnet_generation_november            object\nnet_generation_december            object\nnet_generation_year_to_date       float64\nyear                                int64\ndtype: object"
     },
     "metadata": {},
     "execution_count": 55
    }
   ],
   "source": [
    "gen_data.dtypes"
   ]
  },
  {
   "cell_type": "code",
   "execution_count": 56,
   "metadata": {},
   "outputs": [
    {
     "output_type": "execute_result",
     "data": {
      "text/plain": "   plant_id combined_heat_and__power_plant plant_name     operator_name  \\\n0         3                              N      Barry  Alabama Power Co   \n1         3                              N      Barry  Alabama Power Co   \n2         3                              N      Barry  Alabama Power Co   \n3         3                              N      Barry  Alabama Power Co   \n4         3                              N      Barry  Alabama Power Co   \n\n   operator_id plant_state census_region nerc_region  naics_code  \\\n0          195          AL           ESC        SERC          22   \n1          195          AL           ESC        SERC          22   \n2          195          AL           ESC        SERC          22   \n3          195          AL           ESC        SERC          22   \n4          195          AL           ESC        SERC          22   \n\n   sector_number  ... net_generation_may net_generation_june  \\\n0              1  ...               -277                -293   \n1              1  ...               -192                -363   \n2              1  ...              -1464               -1211   \n3              1  ...             200505              218139   \n4              1  ...               9175              118551   \n\n  net_generation_july net_generation_august net_generation_september  \\\n0                -323                     .                        .   \n1                -432                     .                        .   \n2               -1193                     .                        .   \n3              348463                     .                        .   \n4              122745                     .                        .   \n\n  net_generation_october net_generation_november net_generation_december  \\\n0                      .                       .                       .   \n1                      .                       .                       .   \n2                      .                       .                       .   \n3                      .                       .                       .   \n4                      .                       .                       .   \n\n  net_generation_year_to_date  year  \n0                      2787.0  2020  \n1                      -614.0  2020  \n2                     51249.0  2020  \n3                   1453006.0  2020  \n4                    732876.0  2020  \n\n[5 rows x 27 columns]",
      "text/html": "<div>\n<style scoped>\n    .dataframe tbody tr th:only-of-type {\n        vertical-align: middle;\n    }\n\n    .dataframe tbody tr th {\n        vertical-align: top;\n    }\n\n    .dataframe thead th {\n        text-align: right;\n    }\n</style>\n<table border=\"1\" class=\"dataframe\">\n  <thead>\n    <tr style=\"text-align: right;\">\n      <th></th>\n      <th>plant_id</th>\n      <th>combined_heat_and__power_plant</th>\n      <th>plant_name</th>\n      <th>operator_name</th>\n      <th>operator_id</th>\n      <th>plant_state</th>\n      <th>census_region</th>\n      <th>nerc_region</th>\n      <th>naics_code</th>\n      <th>sector_number</th>\n      <th>...</th>\n      <th>net_generation_may</th>\n      <th>net_generation_june</th>\n      <th>net_generation_july</th>\n      <th>net_generation_august</th>\n      <th>net_generation_september</th>\n      <th>net_generation_october</th>\n      <th>net_generation_november</th>\n      <th>net_generation_december</th>\n      <th>net_generation_year_to_date</th>\n      <th>year</th>\n    </tr>\n  </thead>\n  <tbody>\n    <tr>\n      <th>0</th>\n      <td>3</td>\n      <td>N</td>\n      <td>Barry</td>\n      <td>Alabama Power Co</td>\n      <td>195</td>\n      <td>AL</td>\n      <td>ESC</td>\n      <td>SERC</td>\n      <td>22</td>\n      <td>1</td>\n      <td>...</td>\n      <td>-277</td>\n      <td>-293</td>\n      <td>-323</td>\n      <td>.</td>\n      <td>.</td>\n      <td>.</td>\n      <td>.</td>\n      <td>.</td>\n      <td>2787.0</td>\n      <td>2020</td>\n    </tr>\n    <tr>\n      <th>1</th>\n      <td>3</td>\n      <td>N</td>\n      <td>Barry</td>\n      <td>Alabama Power Co</td>\n      <td>195</td>\n      <td>AL</td>\n      <td>ESC</td>\n      <td>SERC</td>\n      <td>22</td>\n      <td>1</td>\n      <td>...</td>\n      <td>-192</td>\n      <td>-363</td>\n      <td>-432</td>\n      <td>.</td>\n      <td>.</td>\n      <td>.</td>\n      <td>.</td>\n      <td>.</td>\n      <td>-614.0</td>\n      <td>2020</td>\n    </tr>\n    <tr>\n      <th>2</th>\n      <td>3</td>\n      <td>N</td>\n      <td>Barry</td>\n      <td>Alabama Power Co</td>\n      <td>195</td>\n      <td>AL</td>\n      <td>ESC</td>\n      <td>SERC</td>\n      <td>22</td>\n      <td>1</td>\n      <td>...</td>\n      <td>-1464</td>\n      <td>-1211</td>\n      <td>-1193</td>\n      <td>.</td>\n      <td>.</td>\n      <td>.</td>\n      <td>.</td>\n      <td>.</td>\n      <td>51249.0</td>\n      <td>2020</td>\n    </tr>\n    <tr>\n      <th>3</th>\n      <td>3</td>\n      <td>N</td>\n      <td>Barry</td>\n      <td>Alabama Power Co</td>\n      <td>195</td>\n      <td>AL</td>\n      <td>ESC</td>\n      <td>SERC</td>\n      <td>22</td>\n      <td>1</td>\n      <td>...</td>\n      <td>200505</td>\n      <td>218139</td>\n      <td>348463</td>\n      <td>.</td>\n      <td>.</td>\n      <td>.</td>\n      <td>.</td>\n      <td>.</td>\n      <td>1453006.0</td>\n      <td>2020</td>\n    </tr>\n    <tr>\n      <th>4</th>\n      <td>3</td>\n      <td>N</td>\n      <td>Barry</td>\n      <td>Alabama Power Co</td>\n      <td>195</td>\n      <td>AL</td>\n      <td>ESC</td>\n      <td>SERC</td>\n      <td>22</td>\n      <td>1</td>\n      <td>...</td>\n      <td>9175</td>\n      <td>118551</td>\n      <td>122745</td>\n      <td>.</td>\n      <td>.</td>\n      <td>.</td>\n      <td>.</td>\n      <td>.</td>\n      <td>732876.0</td>\n      <td>2020</td>\n    </tr>\n  </tbody>\n</table>\n<p>5 rows × 27 columns</p>\n</div>"
     },
     "metadata": {},
     "execution_count": 56
    }
   ],
   "source": [
    "gen_data.head()"
   ]
  },
  {
   "cell_type": "code",
   "execution_count": null,
   "metadata": {},
   "outputs": [],
   "source": []
  }
 ],
 "metadata": {
  "language_info": {
   "codemirror_mode": {
    "name": "ipython",
    "version": 3
   },
   "file_extension": ".py",
   "mimetype": "text/x-python",
   "name": "python",
   "nbconvert_exporter": "python",
   "pygments_lexer": "ipython3",
   "version": "3.8.2-final"
  },
  "orig_nbformat": 2,
  "kernelspec": {
   "name": ".venv",
   "display_name": ".venv"
  }
 },
 "nbformat": 4,
 "nbformat_minor": 2
}